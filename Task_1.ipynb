{
  "nbformat": 4,
  "nbformat_minor": 0,
  "metadata": {
    "colab": {
      "provenance": [],
      "authorship_tag": "ABX9TyPk/Y4p4GdtLK9Ppngh8t7m",
      "include_colab_link": true
    },
    "kernelspec": {
      "name": "python3",
      "display_name": "Python 3"
    },
    "language_info": {
      "name": "python"
    }
  },
  "cells": [
    {
      "cell_type": "markdown",
      "metadata": {
        "id": "view-in-github",
        "colab_type": "text"
      },
      "source": [
        "<a href=\"https://colab.research.google.com/github/jajapuramshivasai/QOSF-Screening-Task/blob/main/Task_1.ipynb\" target=\"_parent\"><img src=\"https://colab.research.google.com/assets/colab-badge.svg\" alt=\"Open In Colab\"/></a>"
      ]
    },
    {
      "cell_type": "markdown",
      "source": [
        "________\n",
        "#1) Naive simulation using matrix multiplication\n",
        "________"
      ],
      "metadata": {
        "id": "c9-2Oumx_qRV"
      }
    },
    {
      "cell_type": "code",
      "source": [],
      "metadata": {
        "id": "BxLhgGB7Vm9V"
      },
      "execution_count": null,
      "outputs": []
    },
    {
      "cell_type": "markdown",
      "source": [
        "_________________\n",
        "#2) Advanced simulation using tensor multiplication\n",
        "_________________"
      ],
      "metadata": {
        "id": "RjlUs-s9_yHJ"
      }
    },
    {
      "cell_type": "code",
      "source": [],
      "metadata": {
        "id": "faQx-3Br_zxT"
      },
      "execution_count": null,
      "outputs": []
    },
    {
      "cell_type": "markdown",
      "source": [
        "-------------\n",
        "#3) Bonus question\n",
        "----------------"
      ],
      "metadata": {
        "id": "mKWxL8j5_7bf"
      }
    },
    {
      "cell_type": "code",
      "source": [],
      "metadata": {
        "id": "fRnrOvrJAB-9"
      },
      "execution_count": null,
      "outputs": []
    }
  ]
}