{
  "nbformat": 4,
  "nbformat_minor": 0,
  "metadata": {
    "colab": {
      "provenance": [],
      "authorship_tag": "ABX9TyMdu9XO86EFzLjkYdE5qNjI",
      "include_colab_link": true
    },
    "kernelspec": {
      "name": "python3",
      "display_name": "Python 3"
    },
    "language_info": {
      "name": "python"
    }
  },
  "cells": [
    {
      "cell_type": "markdown",
      "metadata": {
        "id": "view-in-github",
        "colab_type": "text"
      },
      "source": [
        "<a href=\"https://colab.research.google.com/github/jajapuramshivasai/QOSF-Screening-Task/blob/main/Task_1.ipynb\" target=\"_parent\"><img src=\"https://colab.research.google.com/assets/colab-badge.svg\" alt=\"Open In Colab\"/></a>"
      ]
    },
    {
      "cell_type": "markdown",
      "source": [
        "________\n",
        "#1) Naive simulation using matrix multiplication\n",
        "________"
      ],
      "metadata": {
        "id": "c9-2Oumx_qRV"
      }
    },
    {
      "cell_type": "code",
      "source": [
        "import numpy as np\n",
        "\n",
        "\n",
        "\n",
        "X = np.array([[0, 1], [1, 0]])\n",
        "Y = np.array([[0, -1j], [1j, 0]])\n",
        "Z = np.array([[1, 0], [0, -1]])\n",
        "H = np.array([[1, 1], [1, -1]]) / np.sqrt(2)\n",
        "I = np.eye(2)\n",
        "\n",
        "P0 = np.array([[1, 0], [0, 0]])\n",
        "P1 = np.array([[0, 0], [0, 1]])\n",
        "\n",
        "\n",
        "def tensor(arr):\n",
        "    result = arr[0]\n",
        "    for element in arr[1:]:\n",
        "        result = np.kron(element, result)\n",
        "    return result\n"
      ],
      "metadata": {
        "id": "Kno9Wny0m5bB"
      },
      "execution_count": null,
      "outputs": []
    },
    {
      "cell_type": "code",
      "source": [
        "\n",
        "\n",
        "class Naive_QuantumStateVectorSimulator:\n",
        "    def __init__(self, num_qubits):\n",
        "        self.num_qubits = num_qubits\n",
        "        self.state_vector = np.array([1] + [0] * (2**num_qubits - 1))\n",
        "        self.ops = []\n",
        "\n",
        "\n",
        "    def add_X(self, qubit):\n",
        "\n",
        "        stack = []\n",
        "        for i in range(self.num_qubits):\n",
        "            if i == qubit:\n",
        "                stack.append(X)\n",
        "            else:\n",
        "                stack.append(I)\n",
        "        gate = tensor(stack)\n",
        "        self.ops.append(gate)\n",
        "\n",
        "\n",
        "    def add_H(self, qubit):\n",
        "\n",
        "        stack = []\n",
        "        for i in range(self.num_qubits):\n",
        "            if i == qubit:\n",
        "                stack.append(H)\n",
        "            else:\n",
        "                stack.append(I)\n",
        "        gate = tensor(stack)\n",
        "        self.ops.append(gate)\n",
        "\n",
        "\n",
        "    def add_CNOT(self, control_qubit, target_qubit):\n",
        "      stack_l = []\n",
        "      stack_r = []\n",
        "      if control_qubit == target_qubit:\n",
        "        raise ValueError(\"Control and target qubits cannot be the same.\")\n",
        "      for i in range(self.num_qubits):\n",
        "\n",
        "          if i == control_qubit:\n",
        "              stack_l.append(P0)\n",
        "              stack_r.append(P1)\n",
        "          else:\n",
        "              stack_l.append(I)\n",
        "              stack_r.append(I)\n",
        "      stack_r[target_qubit] = X\n",
        "\n",
        "      cx = tensor(stack_l) +tensor(stack_r)\n",
        "      self.ops.append(cx)\n",
        "\n",
        "\n",
        "    def simulate(self):\n",
        "        for op in self.ops:\n",
        "            self.state_vector = np.dot(op, self.state_vector)\n",
        "\n",
        "\n",
        "\n"
      ],
      "metadata": {
        "id": "4J3VECuke_7e"
      },
      "execution_count": null,
      "outputs": []
    },
    {
      "cell_type": "markdown",
      "source": [
        "####example"
      ],
      "metadata": {
        "id": "OrRM3gIJnZ_C"
      }
    },
    {
      "cell_type": "code",
      "source": [
        "qc = Naive_QuantumStateVectorSimulator(2)\n",
        "qc.add_H(0)\n",
        "qc.add_CNOT(0,1)\n",
        "statevector = qc.simulate()\n",
        "print(qc.state_vector)"
      ],
      "metadata": {
        "colab": {
          "base_uri": "https://localhost:8080/"
        },
        "id": "syb6zMh4nXL0",
        "outputId": "ae9dd69a-517e-4db8-e2c0-a3ace8b6b6f4"
      },
      "execution_count": null,
      "outputs": [
        {
          "output_type": "stream",
          "name": "stdout",
          "text": [
            "[0.70710678 0.         0.         0.70710678]\n"
          ]
        }
      ]
    },
    {
      "cell_type": "markdown",
      "source": [
        "##Plotting Time Complexity"
      ],
      "metadata": {
        "id": "N4CKJpljrouo"
      }
    },
    {
      "cell_type": "code",
      "source": [
        "import timeit\n",
        "import matplotlib.pyplot as plt\n",
        "\n",
        "max_qubits = 10\n",
        "times = []\n",
        "for qubits in range(1,max_qubits):\n",
        "    # Time the function once per iteration\n",
        "    qc = Naive_QuantumStateVectorSimulator(qubits)\n",
        "    for j in range(qubits):\n",
        "      qc.add_H(j)\n",
        "\n",
        "    execution_time = timeit.timeit(lambda: qc.simulate(), number=10)\n",
        "    times.append(execution_time)\n",
        "    del qc\n",
        "\n",
        "# Plot the results\n",
        "plt.plot(range(1,max_qubits), times, marker='o', linestyle='-')\n",
        "plt.xlabel('Number of Qubits')\n",
        "plt.ylabel('Execution Time (seconds)')\n",
        "plt.title('Execution Time of statevector simulation Over Multiple Runs')\n",
        "plt.grid()\n",
        "plt.show()\n"
      ],
      "metadata": {
        "colab": {
          "base_uri": "https://localhost:8080/",
          "height": 472
        },
        "id": "2LcTL9cnPYVM",
        "outputId": "44edebd1-300b-42bf-f803-a03a86a0f136"
      },
      "execution_count": null,
      "outputs": [
        {
          "output_type": "display_data",
          "data": {
            "text/plain": [
              "<Figure size 640x480 with 1 Axes>"
            ],
            "image/png": "[encoded data removed]"
          },
          "metadata": {}
        }
      ]
    },
    {
      "cell_type": "markdown",
      "source": [
        "_________\n",
        "#2) Advanced simulation using tensor multiplication\n",
        "________"
      ],
      "metadata": {
        "id": "E1kW2yKaS2lH"
      }
    },
    {
      "cell_type": "code",
      "source": [
        "\n",
        "\n",
        "class Advanced_QuantumStateVectorSimulator:\n",
        "    def __init__(self, num_qubits):\n",
        "        self.num_qubits = num_qubits\n",
        "        self.state_vector = np.array([[1,0]]*num_qubits)\n",
        "\n",
        "        self.ops = []\n",
        "\n",
        "\n",
        "    def add_X(self, qubit):\n",
        "\n",
        "        stack = []\n",
        "        for i in range(self.num_qubits):\n",
        "            if i == qubit:\n",
        "                stack.append(X)\n",
        "            else:\n",
        "                stack.append(I)\n",
        "        gate = stack\n",
        "        self.ops.append(gate)\n",
        "\n",
        "\n",
        "    def add_H(self, qubit):\n",
        "\n",
        "        stack = []\n",
        "        for i in range(self.num_qubits):\n",
        "            if i == qubit:\n",
        "                stack.append(H)\n",
        "            else:\n",
        "                stack.append(I)\n",
        "        gate = stack\n",
        "        self.ops.append(gate)\n",
        "\n",
        "\n",
        "\n",
        "\n",
        "\n",
        "    def simulate(self):\n",
        "        for op in self.ops:\n",
        "            self.state_vector = np.einsum('ijk,ik->ij',op, self.state_vector)\n",
        "    def reshape_state(self):\n",
        "      self.state_vector = np.reshape(self.state_vector,(2**self.num_qubits,1))\n",
        "\n",
        "\n",
        "\n"
      ],
      "metadata": {
        "id": "faQx-3Br_zxT"
      },
      "execution_count": null,
      "outputs": []
    },
    {
      "cell_type": "code",
      "source": [
        "qc = Advanced_QuantumStateVectorSimulator(4)\n",
        "# qc.add_H(0)\n",
        "qc.add_X(0)\n",
        "qc.add_X(2)\n",
        "qc.simulate()\n",
        "print(qc.state_vector)\n",
        "del qc"
      ],
      "metadata": {
        "colab": {
          "base_uri": "https://localhost:8080/"
        },
        "id": "eVqeaydOT3tD",
        "outputId": "65375125-f762-4eb2-a4ae-d453f8467e62"
      },
      "execution_count": null,
      "outputs": [
        {
          "output_type": "stream",
          "name": "stdout",
          "text": [
            "[[0. 1.]\n",
            " [1. 0.]\n",
            " [0. 1.]\n",
            " [1. 0.]]\n"
          ]
        }
      ]
    },
    {
      "cell_type": "code",
      "source": [
        "\n",
        "max_qubits = 10\n",
        "times = []\n",
        "for qubits in range(1,max_qubits):\n",
        "    # Time the function once per iteration\n",
        "    qc = Advanced_QuantumStateVectorSimulator(qubits)\n",
        "    for j in range(qubits):\n",
        "      qc.add_H(j)\n",
        "\n",
        "    execution_time = timeit.timeit(lambda: qc.simulate(), number=10)\n",
        "    times.append(execution_time)\n",
        "    del qc\n",
        "\n",
        "# Plot the results\n",
        "plt.plot(range(1,max_qubits), times, marker='o', linestyle='-')\n",
        "plt.xlabel('Number of Qubits')\n",
        "plt.ylabel('Execution Time (seconds)')\n",
        "plt.title('Execution Time of statevector simulation Over Multiple Runs')\n",
        "plt.grid()\n",
        "plt.show()\n"
      ],
      "metadata": {
        "id": "7m0lxuSUXq3m"
      },
      "execution_count": null,
      "outputs": []
    }
  ]
}